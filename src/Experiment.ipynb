{
 "cells": [
  {
   "cell_type": "markdown",
   "id": "7b9d4062",
   "metadata": {},
   "source": [
    "# Anomaly detection for time series"
   ]
  },
  {
   "cell_type": "markdown",
   "id": "559406cd",
   "metadata": {},
   "source": [
    "### 1. Method (IForest/LOF/SAND) TEST with compression"
   ]
  },
  {
   "cell_type": "code",
   "execution_count": 1,
   "id": "c203b0d0",
   "metadata": {},
   "outputs": [
    {
     "name": "stdout",
     "output_type": "stream",
     "text": [
      "sed.out                       :  AUC_ROC = 0.99866    AUC_PR = 0.11573    F = 0.05556    Time = 0.12S\n",
      "Average AUC_ROC :  0.9986622592308959 \n",
      "Average AUC_PR :   0.11572913856294584 \n",
      "Average F :   0.05555555555555555  \n",
      "Average Time :   0.12S\n",
      "\n"
     ]
    }
   ],
   "source": [
    "from Package import *\n",
    "import random\n",
    "random.seed(20250412)\n",
    "random_state = random.randint(1, 4294967295)\n",
    "\n",
    "path =\"/home/guoyou/OutlierDetection/TSB-UAD/data/SED/\"\n",
    "filenames = Filenames2List(path)[:1]\n",
    "ROC_mean, PR_mean, F_mean, Time_mean, n = 0, 0, 0, 0, 0\n",
    "\n",
    "for filename in filenames:\n",
    "    # 0. Get compressed data and transform it\n",
    "    df = pd.read_csv(path+filename, header=None).dropna().to_numpy()\n",
    "    max_length = df.shape[0]\n",
    "    data = df[:max_length,0].astype(float)\n",
    "    label = df[:max_length,1].astype(int)\n",
    "    slidingWindow = find_length(data)\n",
    "    X_data = Window(window = slidingWindow).convert(data).to_numpy()\n",
    "    snr = estimate_snr_from_file(path+filename,snr_min=25)\n",
    "    df_comp = compress(path, filename, snr=snr)\n",
    "\n",
    "\n",
    "    # 1. Prepare the compressed data for unsupervised method\n",
    "    df = pd.read_csv(path+filename, header=None).dropna()\n",
    "    df_selected = df.loc[df_comp['index']]  # df_selected = df.loc[df_comp.index]\n",
    "    df_selected[0] = df_comp['value'].values\n",
    "    df_selected = df_selected.to_numpy()\n",
    "    data_selected = df_selected[:,0].astype(float)\n",
    "    label_selected = df_selected[:,1].astype(int)\n",
    "    slidingWindow_selected = find_length(data_selected)\n",
    "\n",
    "    #****************************************#\n",
    "    # if(model==\"IForest\"):\n",
    "    slidingWindow_selected  = 1\n",
    "    #****************************************#\n",
    "    X_data_selected = Window(window = slidingWindow_selected).convert(data_selected).to_numpy()\n",
    "\n",
    "\n",
    "    # 2. Model selection for testing\n",
    "    contamination = 0.1\n",
    "    model_functions = {\n",
    "    'IForest': lambda: IF(df, df_comp, X_data_selected, label_selected, \n",
    "                        slidingWindow_selected, contamination=contamination, random_state=random_state),\n",
    "    'SAND': lambda: sand(df, df_comp, data_selected, label_selected, \n",
    "                        slidingWindow_selected, contamination=contamination, random_state=random_state),\n",
    "    'LOF': lambda: lof(df, df_comp, X_data_selected, label_selected, \n",
    "                        slidingWindow_selected, contamination=contamination, random_state=random_state),\n",
    "                    }\n",
    "    ROC, PR, F, execution_time = model_functions['IForest']()\n",
    "    print(f\"{filename[:30]:<30}:  AUC_ROC = {ROC:<10.5f} AUC_PR = {PR:<10.5f} \"\\\n",
    "            f\"F = {F:<10.5f} Time = {execution_time:<3.2f}S\")\n",
    "    ROC_mean += ROC\n",
    "    PR_mean += PR\n",
    "    F_mean += F\n",
    "    Time_mean += execution_time \n",
    "    n += 1\n",
    "\n",
    "print(f\"Average AUC_ROC :  {ROC_mean/n} \\nAverage AUC_PR :   {PR_mean/n} \\nAverage F :   {F_mean/n}  \\nAverage Time :   {Time_mean/n}S\\n\")"
   ]
  },
  {
   "cell_type": "markdown",
   "id": "29b1caa2",
   "metadata": {},
   "source": [
    "### 2. Method (IForest/LOF/SAND) TEST with originial data"
   ]
  },
  {
   "cell_type": "code",
   "execution_count": 2,
   "id": "81a2b4d2",
   "metadata": {},
   "outputs": [
    {
     "name": "stdout",
     "output_type": "stream",
     "text": [
      "sed.out                       :  AUC_ROC = 0.80754    AUC_PR = 0.00713    F = 0.02360    Time = 1.74S\n",
      "Average AUC_ROC :  0.8075407627921852 \n",
      "Average AUC_PR :   0.0071291005278464326 \n",
      "Average F :   0.02359882005899705  \n",
      "Average Time :   1.74S\n",
      "\n"
     ]
    }
   ],
   "source": [
    "import random\n",
    "random.seed(20250412)\n",
    "random_state = random.randint(1, 4294967295)\n",
    "\n",
    "path =\"/home/guoyou/OutlierDetection/TSB-UAD/data/SED/\"\n",
    "filenames = Filenames2List(path)[:]\n",
    "ROC_mean, PR_mean, F_mean, Time_mean, n = 0, 0, 0, 0, 0\n",
    "\n",
    "for filename in filenames:\n",
    "    # 0. Get data\n",
    "    df = pd.read_csv(path+filename, header=None).dropna().to_numpy()\n",
    "    max_length = df.shape[0]\n",
    "    data = df[:max_length,0].astype(float)\n",
    "    label = df[:max_length,1].astype(int)\n",
    "    slidingWindow = find_length(data)\n",
    "    X_data = Window(window = slidingWindow).convert(data).to_numpy()\n",
    "\n",
    "\n",
    "\n",
    "\n",
    "    #****************************************#\n",
    "    # if(model==\"IForest\"):\n",
    "    slidingWindow = 1\n",
    "    #****************************************#\n",
    "    X_data = Window(window = slidingWindow).convert(data).to_numpy()\n",
    "\n",
    "\n",
    "    # 2. Model selection for testing\n",
    "    contamination = 0.1\n",
    "    model_functions = {\n",
    "            'IForest': lambda: IF_o(df, X_data, label, slidingWindow, contamination, random_state = random_state),\n",
    "            'SAND': lambda: sand_o(df,  data, label, slidingWindow, contamination),\n",
    "            'LOF': lambda: lof_o(df,  X_data, label, \n",
    "                                slidingWindow, contamination=contamination),\n",
    "                    }\n",
    "    ROC, PR, F, execution_time = model_functions['IForest']()\n",
    "    print(f\"{filename[:30]:<30}:  AUC_ROC = {ROC:<10.5f} AUC_PR = {PR:<10.5f} \"\\\n",
    "            f\"F = {F:<10.5f} Time = {execution_time:<3.2f}S\")\n",
    "    ROC_mean += ROC\n",
    "    PR_mean += PR\n",
    "    F_mean += F\n",
    "    Time_mean += execution_time \n",
    "    n += 1\n",
    "\n",
    "print(f\"Average AUC_ROC :  {ROC_mean/n} \\nAverage AUC_PR :   {PR_mean/n} \\nAverage F :   {F_mean/n}  \\nAverage Time :   {Time_mean/n}S\\n\")"
   ]
  }
 ],
 "metadata": {
  "kernelspec": {
   "display_name": "TSB",
   "language": "python",
   "name": "python3"
  },
  "language_info": {
   "codemirror_mode": {
    "name": "ipython",
    "version": 3
   },
   "file_extension": ".py",
   "mimetype": "text/x-python",
   "name": "python",
   "nbconvert_exporter": "python",
   "pygments_lexer": "ipython3",
   "version": "3.9.18"
  }
 },
 "nbformat": 4,
 "nbformat_minor": 5
}
