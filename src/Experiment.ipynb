{
 "cells": [
  {
   "cell_type": "markdown",
   "id": "7b9d4062",
   "metadata": {},
   "source": [
    "# Anomaly detection for time series"
   ]
  },
  {
   "cell_type": "markdown",
   "id": "559406cd",
   "metadata": {},
   "source": [
    "### 1. Method (IForest) TEST with originial data "
   ]
  },
  {
   "cell_type": "code",
   "execution_count": 1,
   "id": "c203b0d0",
   "metadata": {},
   "outputs": [
    {
     "name": "stdout",
     "output_type": "stream",
     "text": [
      "sed.out                       :  AUC_ROC = 0.80754    AUC_PR = 0.00713    F = 0.02360    Time = 2.08S\n",
      "Average AUC_ROC :  0.8075407627921852 \n",
      "Average AUC_PR :   0.0071291005278464326 \n",
      "Average F :   0.02359882005899705  \n",
      "Average Time :   2.08S\n",
      "\n"
     ]
    }
   ],
   "source": [
    "from Package import *\n",
    "import random\n",
    "random.seed(20250412)\n",
    "random_state = random.randint(1, 4294967295)\n",
    "\n",
    "path =\"/home/guoyou/OutlierDetection/TSB-UAD/data/SED/\"\n",
    "filenames = Filenames2List(path)[:]\n",
    "ROC_mean, PR_mean, F_mean, Time_mean, n = 0, 0, 0, 0, 0\n",
    "\n",
    "for filename in filenames:\n",
    "    # 0. Get data\n",
    "    df = pd.read_csv(path+filename, header=None).dropna().to_numpy()\n",
    "    max_length = df.shape[0]\n",
    "    data = df[:max_length,0].astype(float)\n",
    "    label = df[:max_length,1].astype(int)\n",
    "    slidingWindow = find_length(data)\n",
    "    X_data = Window(window = slidingWindow).convert(data).to_numpy()\n",
    "\n",
    "\n",
    "\n",
    "\n",
    "    #****************************************#\n",
    "    # if(model==\"IForest\" or \"LOF\"):\n",
    "    slidingWindow = 1\n",
    "    #****************************************#\n",
    "    X_data = Window(window = slidingWindow).convert(data).to_numpy()\n",
    "\n",
    "\n",
    "    # 2. Model selection for testing\n",
    "    contamination = 0.1\n",
    "    model_functions = {\n",
    "            'IForest_o': lambda: IF_o(df, X_data, label, slidingWindow, contamination, random_state = random_state),\n",
    "            'SAND_o': lambda: sand_o(df,  data, label, slidingWindow, contamination),\n",
    "            'LOF_o': lambda: lof_o(df,  X_data, label, \n",
    "                                slidingWindow, contamination=contamination),\n",
    "                    }\n",
    "    ROC, PR, F, execution_time = model_functions['IForest_o']()\n",
    "    print(f\"{filename[:30]:<30}:  AUC_ROC = {ROC:<10.5f} AUC_PR = {PR:<10.5f} \"\\\n",
    "            f\"F = {F:<10.5f} Time = {execution_time:<3.2f}S\")\n",
    "    ROC_mean += ROC\n",
    "    PR_mean += PR\n",
    "    F_mean += F\n",
    "    Time_mean += execution_time \n",
    "    n += 1\n",
    "\n",
    "print(f\"Average AUC_ROC :  {ROC_mean/n} \\nAverage AUC_PR :   {PR_mean/n} \\nAverage F :   {F_mean/n}  \\nAverage Time :   {Time_mean/n}S\\n\")"
   ]
  },
  {
   "cell_type": "markdown",
   "id": "29b1caa2",
   "metadata": {},
   "source": [
    "### 2. Method (IForest) TEST with compression"
   ]
  },
  {
   "cell_type": "code",
   "execution_count": 2,
   "id": "81a2b4d2",
   "metadata": {},
   "outputs": [
    {
     "name": "stdout",
     "output_type": "stream",
     "text": [
      "sed.out                       :  AUC_ROC = 0.99866    AUC_PR = 0.11573    F = 0.05556    Time = 0.12S\n",
      "Average AUC_ROC :  0.9986622592308959 \n",
      "Average AUC_PR :   0.11572913856294584 \n",
      "Average F :   0.05555555555555555  \n",
      "Average Time :   0.12S\n",
      "\n"
     ]
    }
   ],
   "source": [
    "from Package import *\n",
    "import random\n",
    "random.seed(20250412)\n",
    "random_state = random.randint(1, 4294967295)\n",
    "\n",
    "path =\"/home/guoyou/OutlierDetection/TSB-UAD/data/SED/\"\n",
    "filenames = Filenames2List(path)[:1]\n",
    "ROC_mean, PR_mean, F_mean, Time_mean, n = 0, 0, 0, 0, 0\n",
    "\n",
    "for filename in filenames:\n",
    "    # 0. Get compressed data and transform it\n",
    "    df = pd.read_csv(path+filename, header=None).dropna().to_numpy()\n",
    "    max_length = df.shape[0]\n",
    "    data = df[:max_length,0].astype(float)\n",
    "    label = df[:max_length,1].astype(int)\n",
    "    slidingWindow = find_length(data)\n",
    "    X_data = Window(window = slidingWindow).convert(data).to_numpy()\n",
    "    snr = estimate_snr_from_file(path+filename,snr_min=25)\n",
    "    df_comp = compress(path, filename, snr=snr)\n",
    "\n",
    "\n",
    "    # 1. Prepare the compressed data for unsupervised method\n",
    "    df = pd.read_csv(path+filename, header=None).dropna()\n",
    "    df_selected = df.loc[df_comp['index']]  # df_selected = df.loc[df_comp.index]\n",
    "    df_selected[0] = df_comp['value'].values\n",
    "    df_selected = df_selected.to_numpy()\n",
    "    data_selected = df_selected[:,0].astype(float)\n",
    "    label_selected = df_selected[:,1].astype(int)\n",
    "    slidingWindow_selected = find_length(data_selected)\n",
    "\n",
    "    #****************************************#\n",
    "    # if(model==\"IForest\"or \"LOF\"):\n",
    "    slidingWindow_selected  = 1\n",
    "    #****************************************#\n",
    "    X_data_selected = Window(window = slidingWindow_selected).convert(data_selected).to_numpy()\n",
    "\n",
    "\n",
    "    # 2. Model selection for testing\n",
    "    contamination = 0.1\n",
    "    model_functions = {\n",
    "    'IForest': lambda: IF(df, df_comp, X_data_selected, label_selected, \n",
    "                        slidingWindow_selected, contamination=contamination, random_state=random_state),\n",
    "    'SAND': lambda: sand(df, df_comp, data_selected, label_selected, \n",
    "                        slidingWindow_selected, contamination=contamination, random_state=random_state),\n",
    "    'LOF': lambda: lof(df, df_comp, X_data_selected, label_selected, \n",
    "                        slidingWindow_selected, contamination=contamination, random_state=random_state),\n",
    "                    }\n",
    "    ROC, PR, F, execution_time = model_functions['IForest']()\n",
    "    print(f\"{filename[:30]:<30}:  AUC_ROC = {ROC:<10.5f} AUC_PR = {PR:<10.5f} \"\\\n",
    "            f\"F = {F:<10.5f} Time = {execution_time:<3.2f}S\")\n",
    "    ROC_mean += ROC\n",
    "    PR_mean += PR\n",
    "    F_mean += F\n",
    "    Time_mean += execution_time \n",
    "    n += 1\n",
    "\n",
    "print(f\"Average AUC_ROC :  {ROC_mean/n} \\nAverage AUC_PR :   {PR_mean/n} \\nAverage F :   {F_mean/n}  \\nAverage Time :   {Time_mean/n}S\\n\")"
   ]
  },
  {
   "cell_type": "markdown",
   "id": "e0014b70",
   "metadata": {},
   "source": [
    "### 3. Method (LOF) TEST with originial data "
   ]
  },
  {
   "cell_type": "code",
   "execution_count": 3,
   "id": "8da8e0ea",
   "metadata": {},
   "outputs": [
    {
     "name": "stdout",
     "output_type": "stream",
     "text": [
      "sed.out                       :  AUC_ROC = 0.52053    AUC_PR = 0.00049    F = 0.00000    Time = 0.29S\n",
      "Average AUC_ROC :  0.5205250284444501 \n",
      "Average AUC_PR :   0.0004942743954597264 \n",
      "Average F :   0.0  \n",
      "Average Time :   0.29S\n",
      "\n"
     ]
    }
   ],
   "source": [
    "from Package import *\n",
    "import random\n",
    "random.seed(20250412)\n",
    "random_state = random.randint(1, 4294967295)\n",
    "\n",
    "path =\"/home/guoyou/OutlierDetection/TSB-UAD/data/SED/\"\n",
    "filenames = Filenames2List(path)[:]\n",
    "ROC_mean, PR_mean, F_mean, Time_mean, n = 0, 0, 0, 0, 0\n",
    "\n",
    "for filename in filenames:\n",
    "    # 0. Get data\n",
    "    df = pd.read_csv(path+filename, header=None).dropna().to_numpy()\n",
    "    max_length = df.shape[0]\n",
    "    data = df[:max_length,0].astype(float)\n",
    "    label = df[:max_length,1].astype(int)\n",
    "    slidingWindow = find_length(data)\n",
    "    X_data = Window(window = slidingWindow).convert(data).to_numpy()\n",
    "\n",
    "\n",
    "\n",
    "\n",
    "    #****************************************#\n",
    "    # if(model==\"IForest\" or \"LOF\"):\n",
    "    slidingWindow = 1\n",
    "    #****************************************#\n",
    "    X_data = Window(window = slidingWindow).convert(data).to_numpy()\n",
    "\n",
    "\n",
    "    # 2. Model selection for testing\n",
    "    contamination = 0.1\n",
    "    model_functions = {\n",
    "            'IForest_o': lambda: IF_o(df, X_data, label, slidingWindow, contamination, random_state = random_state),\n",
    "            'SAND_o': lambda: sand_o(df,  data, label, slidingWindow, contamination),\n",
    "            'LOF_o': lambda: lof_o(df,  X_data, label, \n",
    "                                slidingWindow, contamination=contamination),\n",
    "                    }\n",
    "    ROC, PR, F, execution_time = model_functions['LOF_o']()\n",
    "    print(f\"{filename[:30]:<30}:  AUC_ROC = {ROC:<10.5f} AUC_PR = {PR:<10.5f} \"\\\n",
    "            f\"F = {F:<10.5f} Time = {execution_time:<3.2f}S\")\n",
    "    ROC_mean += ROC\n",
    "    PR_mean += PR\n",
    "    F_mean += F\n",
    "    Time_mean += execution_time \n",
    "    n += 1\n",
    "\n",
    "print(f\"Average AUC_ROC :  {ROC_mean/n} \\nAverage AUC_PR :   {PR_mean/n} \\nAverage F :   {F_mean/n}  \\nAverage Time :   {Time_mean/n}S\\n\")"
   ]
  },
  {
   "cell_type": "markdown",
   "id": "fa93556d",
   "metadata": {},
   "source": [
    "### 4. Method (LOF) TEST with compression"
   ]
  },
  {
   "cell_type": "code",
   "execution_count": 4,
   "id": "7a004067",
   "metadata": {},
   "outputs": [
    {
     "name": "stdout",
     "output_type": "stream",
     "text": [
      "sed.out                       :  AUC_ROC = 0.99865    AUC_PR = 0.06737    F = 0.00000    Time = 0.00S\n",
      "Average AUC_ROC :  0.9986471800273795 \n",
      "Average AUC_PR :   0.0673706418228767 \n",
      "Average F :   0.0  \n",
      "Average Time :   0.00196S\n",
      "\n"
     ]
    }
   ],
   "source": [
    "from Package import *\n",
    "import random\n",
    "random.seed(20250412)\n",
    "random_state = random.randint(1, 4294967295)\n",
    "\n",
    "path =\"/home/guoyou/OutlierDetection/TSB-UAD/data/SED/\"\n",
    "filenames = Filenames2List(path)[:1]\n",
    "ROC_mean, PR_mean, F_mean, Time_mean, n = 0, 0, 0, 0, 0\n",
    "\n",
    "for filename in filenames:\n",
    "    # 0. Get compressed data and transform it\n",
    "    df = pd.read_csv(path+filename, header=None).dropna().to_numpy()\n",
    "    max_length = df.shape[0]\n",
    "    data = df[:max_length,0].astype(float)\n",
    "    label = df[:max_length,1].astype(int)\n",
    "    slidingWindow = find_length(data)\n",
    "    X_data = Window(window = slidingWindow).convert(data).to_numpy()\n",
    "    snr = estimate_snr_from_file(path+filename,snr_min=25)\n",
    "    df_comp = compress(path, filename, snr=snr)\n",
    "\n",
    "\n",
    "    # 1. Prepare the compressed data for unsupervised method\n",
    "    df = pd.read_csv(path+filename, header=None).dropna()\n",
    "    df_selected = df.loc[df_comp['index']]  # df_selected = df.loc[df_comp.index]\n",
    "    df_selected[0] = df_comp['value'].values\n",
    "    df_selected = df_selected.to_numpy()\n",
    "    data_selected = df_selected[:,0].astype(float)\n",
    "    label_selected = df_selected[:,1].astype(int)\n",
    "    slidingWindow_selected = find_length(data_selected)\n",
    "\n",
    "    #****************************************#\n",
    "    # if(model==\"IForest\"or \"LOF\"):\n",
    "    slidingWindow_selected  = 1\n",
    "    #****************************************#\n",
    "    X_data_selected = Window(window = slidingWindow_selected).convert(data_selected).to_numpy()\n",
    "\n",
    "\n",
    "    # 2. Model selection for testing\n",
    "    contamination = 0.1\n",
    "    model_functions = {\n",
    "    'IForest': lambda: IF(df, df_comp, X_data_selected, label_selected, \n",
    "                        slidingWindow_selected, contamination=contamination, random_state=random_state),\n",
    "    'SAND': lambda: sand(df, df_comp, data_selected, label_selected, \n",
    "                        slidingWindow_selected, contamination=contamination, random_state=random_state),\n",
    "    'LOF': lambda: lof(df, df_comp, X_data_selected, label_selected, \n",
    "                        slidingWindow_selected, contamination=contamination, random_state=random_state),\n",
    "                    }\n",
    "    ROC, PR, F, execution_time = model_functions['LOF']()\n",
    "    print(f\"{filename[:30]:<30}:  AUC_ROC = {ROC:<10.5f} AUC_PR = {PR:<10.5f} \"\\\n",
    "            f\"F = {F:<10.5f} Time = {execution_time:<3.2f}S\")\n",
    "    ROC_mean += ROC\n",
    "    PR_mean += PR\n",
    "    F_mean += F\n",
    "    Time_mean += execution_time \n",
    "    n += 1\n",
    "\n",
    "print(f\"Average AUC_ROC :  {ROC_mean/n} \\nAverage AUC_PR :   {PR_mean/n} \\nAverage F :   {F_mean/n}  \\nAverage Time :   {Time_mean/n}S\\n\")"
   ]
  },
  {
   "cell_type": "markdown",
   "id": "1a22a4bf",
   "metadata": {},
   "source": [
    "### 5. Method (SAND) TEST with originial data"
   ]
  },
  {
   "cell_type": "code",
   "execution_count": 5,
   "id": "5fabc1ff",
   "metadata": {},
   "outputs": [
    {
     "name": "stdout",
     "output_type": "stream",
     "text": [
      "sed.out                       :  AUC_ROC = 0.97047    AUC_PR = 0.00820    F = 0.01696    Time = 60.08S\n",
      "Average AUC_ROC :  0.9704678426806675 \n",
      "Average AUC_PR :   0.008204966479445118 \n",
      "Average F :   0.016964285714285713  \n",
      "Average Time :   60.08S\n",
      "\n"
     ]
    }
   ],
   "source": [
    "from Package import *\n",
    "import random\n",
    "random.seed(20250412)\n",
    "random_state = random.randint(1, 4294967295)\n",
    "\n",
    "path =\"/home/guoyou/OutlierDetection/TSB-UAD/data/SED/\"\n",
    "filenames = Filenames2List(path)[:]\n",
    "ROC_mean, PR_mean, F_mean, Time_mean, n = 0, 0, 0, 0, 0\n",
    "\n",
    "for filename in filenames:\n",
    "    # 0. Get data\n",
    "    df = pd.read_csv(path+filename, header=None).dropna().to_numpy()\n",
    "    max_length = df.shape[0]\n",
    "    data = df[:max_length,0].astype(float)\n",
    "    label = df[:max_length,1].astype(int)\n",
    "    slidingWindow = find_length(data)\n",
    "    X_data = Window(window = slidingWindow).convert(data).to_numpy()\n",
    "\n",
    "\n",
    "    # 2. Model selection for testing\n",
    "    contamination = 0.1\n",
    "    model_functions = {\n",
    "            'IForest': lambda: IF_o(df, X_data, label, slidingWindow, contamination, random_state = random_state),\n",
    "            'SAND': lambda: sand_o(df,  data, label, slidingWindow, contamination),\n",
    "            'LOF': lambda: lof_o(df,  X_data, label, \n",
    "                                slidingWindow, contamination=contamination),\n",
    "                    }\n",
    "    ROC, PR, F, execution_time = model_functions['SAND']()\n",
    "    print(f\"{filename[:30]:<30}:  AUC_ROC = {ROC:<10.5f} AUC_PR = {PR:<10.5f} \"\\\n",
    "            f\"F = {F:<10.5f} Time = {execution_time:<3.2f}S\")\n",
    "    ROC_mean += ROC\n",
    "    PR_mean += PR\n",
    "    F_mean += F\n",
    "    Time_mean += execution_time \n",
    "    n += 1\n",
    "\n",
    "print(f\"Average AUC_ROC :  {ROC_mean/n} \\nAverage AUC_PR :   {PR_mean/n} \\nAverage F :   {F_mean/n}  \\nAverage Time :   {Time_mean/n}S\\n\")"
   ]
  },
  {
   "cell_type": "markdown",
   "id": "9784c7c9",
   "metadata": {},
   "source": [
    "### 6. Method (SAND) TEST with compression"
   ]
  },
  {
   "cell_type": "code",
   "execution_count": 6,
   "id": "e744978f",
   "metadata": {},
   "outputs": [
    {
     "name": "stdout",
     "output_type": "stream",
     "text": [
      "sed.out                       :  AUC_ROC = 0.99833    AUC_PR = 0.04492    F = 0.03553    Time = 0.05S\n",
      "Average AUC_ROC :  0.9983305167535337 \n",
      "Average AUC_PR :   0.044923114371562524 \n",
      "Average F :   0.03553299492385787  \n",
      "Average Time :   0.05S\n",
      "\n"
     ]
    }
   ],
   "source": [
    "from Package import *\n",
    "import random\n",
    "random.seed(20250412)\n",
    "random_state = random.randint(1, 4294967295)\n",
    "\n",
    "path =\"/home/guoyou/OutlierDetection/TSB-UAD/data/SED/\"\n",
    "filenames = Filenames2List(path)[:1]\n",
    "ROC_mean, PR_mean, F_mean, Time_mean, n = 0, 0, 0, 0, 0\n",
    "\n",
    "for filename in filenames:\n",
    "    # 0. Get compressed data and transform it\n",
    "    df = pd.read_csv(path+filename, header=None).dropna().to_numpy()\n",
    "    max_length = df.shape[0]\n",
    "    data = df[:max_length,0].astype(float)\n",
    "    label = df[:max_length,1].astype(int)\n",
    "    slidingWindow = find_length(data)\n",
    "    X_data = Window(window = slidingWindow).convert(data).to_numpy()\n",
    "    snr = estimate_snr_from_file(path+filename,snr_min=25)\n",
    "    df_comp = compress(path, filename, snr=snr)\n",
    "\n",
    "\n",
    "    # 1. Prepare the compressed data for unsupervised method\n",
    "    df = pd.read_csv(path+filename, header=None).dropna()\n",
    "    df_selected = df.loc[df_comp['index']]  # df_selected = df.loc[df_comp.index]\n",
    "    df_selected[0] = df_comp['value'].values\n",
    "    df_selected = df_selected.to_numpy()\n",
    "    data_selected = df_selected[:,0].astype(float)\n",
    "    label_selected = df_selected[:,1].astype(int)\n",
    "    slidingWindow_selected = find_length(data_selected)\n",
    "    X_data_selected = Window(window = slidingWindow_selected).convert(data_selected).to_numpy()\n",
    "\n",
    "\n",
    "    # 2. Model selection for testing\n",
    "    contamination = 0.1\n",
    "    model_functions = {\n",
    "    'IForest': lambda: IF(df, df_comp, X_data_selected, label_selected, \n",
    "                        slidingWindow_selected, contamination=contamination, random_state=random_state),\n",
    "    'SAND': lambda: sand(df, df_comp, data_selected, label_selected, \n",
    "                        slidingWindow_selected, contamination=contamination, random_state=random_state),\n",
    "    'LOF': lambda: lof(df, df_comp, X_data_selected, label_selected, \n",
    "                        slidingWindow_selected, contamination=contamination, random_state=random_state),\n",
    "                    }\n",
    "    ROC, PR, F, execution_time = model_functions['SAND']()\n",
    "    print(f\"{filename[:30]:<30}:  AUC_ROC = {ROC:<10.5f} AUC_PR = {PR:<10.5f} \"\\\n",
    "            f\"F = {F:<10.5f} Time = {execution_time:<3.2f}S\")\n",
    "    ROC_mean += ROC\n",
    "    PR_mean += PR\n",
    "    F_mean += F\n",
    "    Time_mean += execution_time \n",
    "    n += 1\n",
    "\n",
    "print(f\"Average AUC_ROC :  {ROC_mean/n} \\nAverage AUC_PR :   {PR_mean/n} \\nAverage F :   {F_mean/n}  \\nAverage Time :   {Time_mean/n}S\\n\")"
   ]
  }
 ],
 "metadata": {
  "kernelspec": {
   "display_name": "TSB",
   "language": "python",
   "name": "python3"
  },
  "language_info": {
   "codemirror_mode": {
    "name": "ipython",
    "version": 3
   },
   "file_extension": ".py",
   "mimetype": "text/x-python",
   "name": "python",
   "nbconvert_exporter": "python",
   "pygments_lexer": "ipython3",
   "version": "3.9.18"
  }
 },
 "nbformat": 4,
 "nbformat_minor": 5
}
